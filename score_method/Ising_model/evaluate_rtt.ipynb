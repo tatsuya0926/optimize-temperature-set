{
 "cells": [
  {
   "cell_type": "code",
   "execution_count": 1,
   "id": "6be2e0d4",
   "metadata": {},
   "outputs": [
    {
     "name": "stdout",
     "output_type": "stream",
     "text": [
      "[:IsingCore, :calc_acceptance_and_rtt, :calc_energy, :initial_state, :metropolis_sampler, :uniform_acceptance_grad_sm]\n"
     ]
    }
   ],
   "source": [
    "include(\"IsingCore.jl\")\n",
    "using .IsingCore\n",
    "include(\"../../logger/logger.jl\")\n",
    "using .MyLogger\n",
    "include(\"../utils.jl\")\n",
    "using .Utils\n",
    "using Logging, LinearAlgebra, Statistics, StatsBase, Random\n",
    "using CairoMakie\n",
    "\n",
    "init_logger(dir=\"../../logs\", level=:Info)\n",
    "println(names(IsingCore))"
   ]
  },
  {
   "cell_type": "code",
   "execution_count": 2,
   "id": "38d1610b",
   "metadata": {},
   "outputs": [
    {
     "name": "stdout",
     "output_type": "stream",
     "text": [
      "Set hyperparameters.\n"
     ]
    }
   ],
   "source": [
    "N = 20\n",
    "# β_min = 1/10\n",
    "β_max = 1\n",
    "M = 20\n",
    "mcSteps=10^7\n",
    "@info \"\"\"\n",
    "Hyperparameters of Ising model:\n",
    "--------------------\n",
    "system size: $(N*N),\n",
    "the number of replica: $M,\n",
    "MCS: $mcSteps\n",
    "\"\"\"\n",
    "println(\"Set hyperparameters.\")"
   ]
  },
  {
   "cell_type": "code",
   "execution_count": 3,
   "id": "e9d444c3",
   "metadata": {},
   "outputs": [
    {
     "data": {
      "text/plain": [
       "3-element Vector{Vector{Float64}}:\n",
       " [0.020615714837037016, 0.06388475620295729, 0.10609376436527308, 0.14798741811786267, 0.18873113048875065, 0.22699198456125427, 0.2641270230676485, 0.29943887237875827, 0.3330433375234771, 0.3638706503389226, 0.39176278979964224, 0.4159134884751802, 0.4363259632289058, 0.45903451959631836, 0.48820478772312065, 0.5252584680730991, 0.575617591327538, 0.644967991157092, 0.7551749693265066, 1.110282074113982]\n",
       " [0.1, 0.1128837891684689, 0.12742749857031335, 0.14384498882876626, 0.16237767391887217, 0.18329807108324359, 0.20691380811147894, 0.2335721469090122, 0.2636650898730358, 0.2976351441631318, 0.33598182862837817, 0.3792690190732249, 0.4281332398719394, 0.4832930238571753, 0.5455594781168519, 0.6158482110660264, 0.6951927961775605, 0.7847599703514612, 0.8858667904100826, 1.0]\n",
       " [0.0, 0.05263157894736842, 0.10526315789473684, 0.15789473684210525, 0.21052631578947367, 0.2631578947368421, 0.3157894736842105, 0.3684210526315789, 0.42105263157894735, 0.47368421052631576, 0.5263157894736842, 0.5789473684210527, 0.631578947368421, 0.6842105263157895, 0.7368421052631579, 0.7894736842105263, 0.8421052631578947, 0.8947368421052632, 0.9473684210526315, 1.0]"
      ]
     },
     "metadata": {},
     "output_type": "display_data"
    }
   ],
   "source": [
    "β_ladder_trace = [[0.020615714837037016, 0.06388475620295729, 0.10609376436527308, 0.14798741811786267, 0.18873113048875065, 0.22699198456125427, 0.2641270230676485, 0.29943887237875827, 0.3330433375234771, 0.3638706503389226, 0.39176278979964224, 0.4159134884751802, 0.4363259632289058, 0.45903451959631836, 0.48820478772312065, 0.5252584680730991, 0.575617591327538, 0.644967991157092, 0.7551749693265066, 1.110282074113982]]\n",
    "geometric_β_ladder = Utils.set_temperature_ladder(\n",
    "    1/10, \n",
    "    β_max; \n",
    "    M=M, \n",
    "    method=:geometric\n",
    ")\n",
    "inverse_linear_β_ladder = Utils.set_temperature_ladder(\n",
    "    0, \n",
    "    β_max; \n",
    "    M=M, \n",
    "    method=:inverse_linear\n",
    ")\n",
    "push!(β_ladder_trace, geometric_β_ladder)\n",
    "push!(β_ladder_trace, inverse_linear_β_ladder)"
   ]
  },
  {
   "cell_type": "code",
   "execution_count": 4,
   "id": "fe5197c4",
   "metadata": {},
   "outputs": [
    {
     "name": "stdout",
     "output_type": "stream",
     "text": [
      "uniform acceptance: \n",
      "inverse temperature ladder = [0.020615714837037016, 0.06388475620295729, 0.10609376436527308, 0.14798741811786267, 0.18873113048875065, 0.22699198456125427, 0.2641270230676485, 0.29943887237875827, 0.3330433375234771, 0.3638706503389226, 0.39176278979964224, 0.4159134884751802, 0.4363259632289058, 0.45903451959631836, 0.48820478772312065, 0.5252584680730991, 0.575617591327538, 0.644967991157092, 0.7551749693265066, 1.110282074113982], \n",
      "Mean Round-Trip Time: 2761.1128818427883 ± 1642.716971196058\n",
      "geometric: \n",
      "inverse temperature ladder = [0.1, 0.1128837891684689, 0.12742749857031335, 0.14384498882876626, 0.16237767391887217, 0.18329807108324359, 0.20691380811147894, 0.2335721469090122, 0.2636650898730358, 0.2976351441631318, 0.33598182862837817, 0.3792690190732249, 0.4281332398719394, 0.4832930238571753, 0.5455594781168519, 0.6158482110660264, 0.6951927961775605, 0.7847599703514612, 0.8858667904100826, 1.0], \n",
      "Mean Round-Trip Time: 5508.688051146384 ± 3771.8389701968126\n",
      "inverse linear: \n",
      "inverse temperature ladder = [0.0, 0.05263157894736842, 0.10526315789473684, 0.15789473684210525, 0.21052631578947367, 0.2631578947368421, 0.3157894736842105, 0.3684210526315789, 0.42105263157894735, 0.47368421052631576, 0.5263157894736842, 0.5789473684210527, 0.631578947368421, 0.6842105263157895, 0.7368421052631579, 0.7894736842105263, 0.8421052631578947, 0.8947368421052632, 0.9473684210526315, 1.0], \n",
      "Mean Round-Trip Time: 6637.455668459853 ± 4399.726678343896\n"
     ]
    }
   ],
   "source": [
    "mean_rtt_trace = []\n",
    "strategys = [\"uniform acceptance\", \"geometric\", \"inverse linear\"]\n",
    "\n",
    "for (β_ladder, strategy) in zip(β_ladder_trace, strategys)\n",
    "    exchange_prob_means, all_rtts = IsingCore.calc_acceptance_and_rtt(\n",
    "        N, \n",
    "        β_ladder;\n",
    "        mcSteps=mcSteps\n",
    "    )\n",
    "    mean_rtt = mean(all_rtts)\n",
    "\n",
    "    @info \"\"\"\n",
    "        $strategy: \n",
    "        inverse temperature ladder = $β_ladder, \n",
    "        Mean Round-Trip Time: $mean_rtt ± $(Statistics.std(all_rtts))\"\"\"\n",
    "    println(\"\"\"\n",
    "        $strategy: \n",
    "        inverse temperature ladder = $β_ladder, \n",
    "        Mean Round-Trip Time: $mean_rtt ± $(Statistics.std(all_rtts))\"\"\"\n",
    "    )\n",
    "end"
   ]
  },
  {
   "cell_type": "code",
   "execution_count": 5,
   "id": "d4d6c127",
   "metadata": {},
   "outputs": [],
   "source": []
  }
 ],
 "metadata": {
  "kernelspec": {
   "display_name": "Julia 1.11.6",
   "language": "julia",
   "name": "julia-1.11"
  },
  "language_info": {
   "file_extension": ".jl",
   "mimetype": "application/julia",
   "name": "julia",
   "version": "1.11.6"
  }
 },
 "nbformat": 4,
 "nbformat_minor": 5
}
