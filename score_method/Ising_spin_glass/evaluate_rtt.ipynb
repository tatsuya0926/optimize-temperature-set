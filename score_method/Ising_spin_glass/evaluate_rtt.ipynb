{
 "cells": [
  {
   "cell_type": "code",
   "execution_count": 1,
   "id": "6be2e0d4",
   "metadata": {},
   "outputs": [
    {
     "name": "stdout",
     "output_type": "stream",
     "text": [
      "[:SpinGlassCore, :calc_acceptance_and_rtt, :calc_energy, :initial_state, :metropolis_sampler, :score_method]\n"
     ]
    }
   ],
   "source": [
    "include(\"SpinGlassCore_3d.jl\")\n",
    "using .SpinGlassCore\n",
    "include(\"../../logger/logger.jl\")\n",
    "using .MyLogger\n",
    "include(\"../utils.jl\")\n",
    "using .Utils\n",
    "using Logging, LinearAlgebra, Statistics, StatsBase, Random\n",
    "using CairoMakie\n",
    "\n",
    "seed = 42\n",
    "Random.seed!(seed)\n",
    "\n",
    "init_logger(dir=\"../../logs\", level=:Info)\n",
    "println(names(SpinGlassCore))"
   ]
  },
  {
   "cell_type": "code",
   "execution_count": 2,
   "id": "38d1610b",
   "metadata": {},
   "outputs": [
    {
     "name": "stdout",
     "output_type": "stream",
     "text": [
      "Set hyperparameters.\n"
     ]
    }
   ],
   "source": [
    "N = 8\n",
    "β_min = 0.1\n",
    "β_max = 1.8\n",
    "M = 20\n",
    "mcSteps=10^7\n",
    "eqSteps=10^2\n",
    "Jh = randn(N, N, N)\n",
    "Jv = randn(N, N, N)\n",
    "Jz = randn(N, N, N)\n",
    "@info \"\"\"\n",
    "Hyperparameters of Gaussian model:\n",
    "--------------------\n",
    "system size: $(N*N*N),\n",
    "the number of replica: $M,\n",
    "MCS: $mcSteps\n",
    "\"\"\"\n",
    "println(\"Set hyperparameters.\")"
   ]
  },
  {
   "cell_type": "code",
   "execution_count": 3,
   "id": "e9d444c3",
   "metadata": {},
   "outputs": [
    {
     "data": {
      "text/plain": [
       "3-element Vector{Vector{Float64}}:\n",
       " [0.04637974303856932, 0.08911569265681538, 0.131881867355154, 0.1751897697294175, 0.2192223514289654, 0.26482473397183715, 0.3113286548938571, 0.3593087735175781, 0.4093502963093775, 0.46243510053762077, 0.5180829471816236, 0.5782182390931703, 0.6471490210116588, 0.725708477037973, 0.8158184261336104, 0.9230535353743115, 1.056720737740695, 1.2390291680333412, 1.4984369140477953, 1.880176437241186]\n",
       " [0.1000000000000001, 0.11643055668833711, 0.13556074530756068, 0.1578341304124516, 0.18376715668341317, 0.21396112353682642, 0.24911612723054746, 0.29004729373495225, 0.3377036787550609, 0.39319027313151067, 0.45779362385141065, 0.5330116647339088, 0.6205884484634625, 0.7225545852895225, 0.841274326029696, 0.9795003810724302, 1.1404377464470126, 1.3278180168721818, 1.545985908852318, 1.7999999999999998]\n",
       " [0.1, 0.18947368421052632, 0.2789473684210526, 0.368421052631579, 0.45789473684210524, 0.5473684210526316, 0.6368421052631579, 0.7263157894736842, 0.8157894736842105, 0.9052631578947368, 0.9947368421052631, 1.0842105263157895, 1.1736842105263159, 1.263157894736842, 1.3526315789473686, 1.4421052631578948, 1.5315789473684212, 1.6210526315789473, 1.7105263157894737, 1.8]"
      ]
     },
     "metadata": {},
     "output_type": "display_data"
    }
   ],
   "source": [
    "β_ladder_trace = [[0.04637974303856932, 0.08911569265681538, 0.131881867355154, 0.1751897697294175, 0.2192223514289654, 0.26482473397183715, 0.3113286548938571, 0.3593087735175781, 0.4093502963093775, 0.46243510053762077, 0.5180829471816236, 0.5782182390931703, 0.6471490210116588, 0.725708477037973, 0.8158184261336104, 0.9230535353743115, 1.056720737740695, 1.2390291680333412, 1.4984369140477953, 1.880176437241186]]\n",
    "geometric_β_ladder = Utils.set_temperature_ladder(\n",
    "    β_min, \n",
    "    β_max; \n",
    "    M=M, \n",
    "    method=:geometric\n",
    ")\n",
    "inverse_linear_β_ladder = Utils.set_temperature_ladder(\n",
    "    β_min, \n",
    "    β_max; \n",
    "    M=M, \n",
    "    method=:inverse_linear\n",
    ")\n",
    "push!(β_ladder_trace, geometric_β_ladder)\n",
    "push!(β_ladder_trace, inverse_linear_β_ladder)"
   ]
  },
  {
   "cell_type": "code",
   "execution_count": 4,
   "id": "fe5197c4",
   "metadata": {},
   "outputs": [
    {
     "name": "stdout",
     "output_type": "stream",
     "text": [
      "uniform acceptance: \n",
      "inverse temperature ladder = [0.04637974303856932, 0.08911569265681538, 0.131881867355154, 0.1751897697294175, 0.2192223514289654, 0.26482473397183715, 0.3113286548938571, 0.3593087735175781, 0.4093502963093775, 0.46243510053762077, 0.5180829471816236, 0.5782182390931703, 0.6471490210116588, 0.725708477037973, 0.8158184261336104, 0.9230535353743115, 1.056720737740695, 1.2390291680333412, 1.4984369140477953, 1.880176437241186], \n",
      "Mean Round-Trip Time: 20879.82489539749 ± 15342.586798200198\n",
      "geometric: \n",
      "inverse temperature ladder = [0.1000000000000001, 0.11643055668833711, 0.13556074530756068, 0.1578341304124516, 0.18376715668341317, 0.21396112353682642, 0.24911612723054746, 0.29004729373495225, 0.3377036787550609, 0.39319027313151067, 0.45779362385141065, 0.5330116647339088, 0.6205884484634625, 0.7225545852895225, 0.841274326029696, 0.9795003810724302, 1.1404377464470126, 1.3278180168721818, 1.545985908852318, 1.7999999999999998], \n",
      "Mean Round-Trip Time: 25835.759813447337 ± 19683.91511662673\n",
      "inverse linear: \n",
      "inverse temperature ladder = [0.1, 0.18947368421052632, 0.2789473684210526, 0.368421052631579, 0.45789473684210524, 0.5473684210526316, 0.6368421052631579, 0.7263157894736842, 0.8157894736842105, 0.9052631578947368, 0.9947368421052631, 1.0842105263157895, 1.1736842105263159, 1.263157894736842, 1.3526315789473686, 1.4421052631578948, 1.5315789473684212, 1.6210526315789473, 1.7105263157894737, 1.8], \n",
      "Mean Round-Trip Time: 24773.823325062036 ± 16628.288396806583\n"
     ]
    }
   ],
   "source": [
    "mean_rtt_trace = []\n",
    "strategys = [\"uniform acceptance\", \"geometric\", \"inverse linear\"]\n",
    "\n",
    "for (β_ladder, strategy) in zip(β_ladder_trace, strategys)\n",
    "    exchange_prob_means, all_rtts = SpinGlassCore.calc_acceptance_and_rtt(\n",
    "        N, \n",
    "        β_ladder,\n",
    "        Jh,\n",
    "        Jv,\n",
    "        Jz;\n",
    "        mcSteps=mcSteps,\n",
    "        eqSteps=eqSteps\n",
    "    )\n",
    "    mean_rtt = mean(all_rtts)\n",
    "\n",
    "    @info \"\"\"\n",
    "        $strategy: \n",
    "        inverse temperature ladder = $β_ladder, \n",
    "        Mean Round-Trip Time: $mean_rtt ± $(Statistics.std(all_rtts))\"\"\"\n",
    "    println(\"\"\"\n",
    "        $strategy: \n",
    "        inverse temperature ladder = $β_ladder, \n",
    "        Mean Round-Trip Time: $mean_rtt ± $(Statistics.std(all_rtts))\"\"\"\n",
    "    )\n",
    "end"
   ]
  },
  {
   "cell_type": "code",
   "execution_count": 5,
   "id": "d4d6c127",
   "metadata": {},
   "outputs": [],
   "source": []
  }
 ],
 "metadata": {
  "kernelspec": {
   "display_name": "Julia 1.11.6",
   "language": "julia",
   "name": "julia-1.11"
  },
  "language_info": {
   "file_extension": ".jl",
   "mimetype": "application/julia",
   "name": "julia",
   "version": "1.11.6"
  }
 },
 "nbformat": 4,
 "nbformat_minor": 5
}
