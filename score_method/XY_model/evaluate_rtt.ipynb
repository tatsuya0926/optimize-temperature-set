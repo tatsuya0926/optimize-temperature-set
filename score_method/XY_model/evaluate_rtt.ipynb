{
 "cells": [
  {
   "cell_type": "code",
   "execution_count": 1,
   "id": "6be2e0d4",
   "metadata": {},
   "outputs": [
    {
     "name": "stdout",
     "output_type": "stream",
     "text": [
      "[:XYCore, :calc_acceptance_and_rtt, :calc_energy, :calc_magnetization, :initial_state, :metropolis_sampler, :score_method, :wolff_sampler]\n"
     ]
    }
   ],
   "source": [
    "include(\"XYCore.jl\")\n",
    "using .XYCore\n",
    "include(\"../../logger/logger.jl\")\n",
    "using .MyLogger\n",
    "include(\"../utils.jl\")\n",
    "using .Utils\n",
    "using Logging, LinearAlgebra, Statistics, StatsBase, Random\n",
    "using CairoMakie\n",
    "\n",
    "init_logger(dir=\"../../logs\", level=:Info)\n",
    "println(names(XYCore))"
   ]
  },
  {
   "cell_type": "code",
   "execution_count": 2,
   "id": "38d1610b",
   "metadata": {},
   "outputs": [
    {
     "name": "stdout",
     "output_type": "stream",
     "text": [
      "Set hyperparameters.\n"
     ]
    }
   ],
   "source": [
    "N = 20\n",
    "β_min = 0.5\n",
    "β_max = 2.0\n",
    "M = 20\n",
    "mcSteps=10^7\n",
    "@info \"\"\"\n",
    "Hyperparameters of XY model:\n",
    "--------------------\n",
    "system size: $(N*N),\n",
    "the number of replica: $M,\n",
    "MCS: $mcSteps\n",
    "\"\"\"\n",
    "println(\"Set hyperparameters.\")"
   ]
  },
  {
   "cell_type": "code",
   "execution_count": 3,
   "id": "e9d444c3",
   "metadata": {},
   "outputs": [
    {
     "data": {
      "text/plain": [
       "3-element Vector{Vector{Float64}}:\n",
       " [0.47608451174283384, 0.5349073876328612, 0.5920508179978864, 0.6482285148545113, 0.7029401116686586, 0.7552453038374775, 0.8070470454946345, 0.8570094449943182, 0.9052355157559144, 0.956599456247097, 1.0158025006996814, 1.081657804051085, 1.1580616307951335, 1.2458984588814268, 1.3466466568996367, 1.4577755539186685, 1.5826644083541614, 1.7197531948713185, 1.8731373192180718, 2.041366227658945]\n",
       " [0.5000000000000004, 0.5378452931100917, 0.5785551186413602, 0.6223462947320121, 0.6694520506122364, 0.7201232687693798, 0.7746298211333282, 0.8332620063985448, 0.8963320961378562, 0.9641759979424954, 1.0371550444461923, 1.115657917761544, 1.2001027195781033, 1.2909391979474052, 1.3886511426146564, 1.493758961654486, 1.606822453133765, 1.7284437865632112, 1.8592707100168127, 2.0]\n",
       " [0.5, 0.5789473684210527, 0.6578947368421053, 0.7368421052631579, 0.8157894736842105, 0.8947368421052632, 0.9736842105263157, 1.0526315789473686, 1.131578947368421, 1.2105263157894737, 1.2894736842105263, 1.368421052631579, 1.4473684210526314, 1.5263157894736843, 1.605263157894737, 1.6842105263157894, 1.763157894736842, 1.8421052631578947, 1.9210526315789473, 2.0]"
      ]
     },
     "metadata": {},
     "output_type": "display_data"
    }
   ],
   "source": [
    "β_ladder_trace = [[0.47608451174283384, 0.5349073876328612, 0.5920508179978864, 0.6482285148545113, 0.7029401116686586, 0.7552453038374775, 0.8070470454946345, 0.8570094449943182, 0.9052355157559144, 0.956599456247097, 1.0158025006996814, 1.081657804051085, 1.1580616307951335, 1.2458984588814268, 1.3466466568996367, 1.4577755539186685, 1.5826644083541614, 1.7197531948713185, 1.8731373192180718, 2.041366227658945]]\n",
    "geometric_β_ladder = Utils.set_temperature_ladder(\n",
    "    β_min, \n",
    "    β_max; \n",
    "    M=M, \n",
    "    method=:geometric\n",
    ")\n",
    "inverse_linear_β_ladder = Utils.set_temperature_ladder(\n",
    "    β_min, \n",
    "    β_max; \n",
    "    M=M, \n",
    "    method=:inverse_linear\n",
    ")\n",
    "push!(β_ladder_trace, geometric_β_ladder)\n",
    "push!(β_ladder_trace, inverse_linear_β_ladder)"
   ]
  },
  {
   "cell_type": "code",
   "execution_count": 4,
   "id": "fe5197c4",
   "metadata": {},
   "outputs": [
    {
     "name": "stdout",
     "output_type": "stream",
     "text": [
      "uniform acceptance: \n",
      "inverse temperature ladder = [0.47608451174283384, 0.5349073876328612, 0.5920508179978864, 0.6482285148545113, 0.7029401116686586, 0.7552453038374775, 0.8070470454946345, 0.8570094449943182, 0.9052355157559144, 0.956599456247097, 1.0158025006996814, 1.081657804051085, 1.1580616307951335, 1.2458984588814268, 1.3466466568996367, 1.4577755539186685, 1.5826644083541614, 1.7197531948713185, 1.8731373192180718, 2.041366227658945], \n",
      "Mean Round-Trip Time: 8294.887975760594 ± 4964.788182701964\n",
      "geometric: \n",
      "inverse temperature ladder = [0.5000000000000004, 0.5378452931100917, 0.5785551186413602, 0.6223462947320121, 0.6694520506122364, 0.7201232687693798, 0.7746298211333282, 0.8332620063985448, 0.8963320961378562, 0.9641759979424954, 1.0371550444461923, 1.115657917761544, 1.2001027195781033, 1.2909391979474052, 1.3886511426146564, 1.493758961654486, 1.606822453133765, 1.7284437865632112, 1.8592707100168127, 2.0], \n",
      "Mean Round-Trip Time: 9282.650750150959 ± 5740.92555125168\n",
      "inverse linear: \n",
      "inverse temperature ladder = [0.5, 0.5789473684210527, 0.6578947368421053, 0.7368421052631579, 0.8157894736842105, 0.8947368421052632, 0.9736842105263157, 1.0526315789473686, 1.131578947368421, 1.2105263157894737, 1.2894736842105263, 1.368421052631579, 1.4473684210526314, 1.5263157894736843, 1.605263157894737, 1.6842105263157894, 1.763157894736842, 1.8421052631578947, 1.9210526315789473, 2.0], \n",
      "Mean Round-Trip Time: 11276.412800541822 ± 7781.844550682215\n"
     ]
    }
   ],
   "source": [
    "mean_rtt_trace = []\n",
    "strategys = [\"uniform acceptance\", \"geometric\", \"inverse linear\"]\n",
    "\n",
    "for (β_ladder, strategy) in zip(β_ladder_trace, strategys)\n",
    "    exchange_prob_means, all_rtts = XYCore.calc_acceptance_and_rtt(\n",
    "        N, \n",
    "        β_ladder;\n",
    "        mcSteps=mcSteps\n",
    "    )\n",
    "    mean_rtt = mean(all_rtts)\n",
    "\n",
    "    @info \"\"\"\n",
    "        $strategy: \n",
    "        inverse temperature ladder = $β_ladder, \n",
    "        Mean Round-Trip Time: $mean_rtt ± $(Statistics.std(all_rtts))\"\"\"\n",
    "    println(\"\"\"\n",
    "        $strategy: \n",
    "        inverse temperature ladder = $β_ladder, \n",
    "        Mean Round-Trip Time: $mean_rtt ± $(Statistics.std(all_rtts))\"\"\"\n",
    "    )\n",
    "end"
   ]
  },
  {
   "cell_type": "code",
   "execution_count": 5,
   "id": "d4d6c127",
   "metadata": {},
   "outputs": [],
   "source": []
  }
 ],
 "metadata": {
  "kernelspec": {
   "display_name": "Julia 1.11.6",
   "language": "julia",
   "name": "julia-1.11"
  },
  "language_info": {
   "file_extension": ".jl",
   "mimetype": "application/julia",
   "name": "julia",
   "version": "1.11.6"
  }
 },
 "nbformat": 4,
 "nbformat_minor": 5
}
